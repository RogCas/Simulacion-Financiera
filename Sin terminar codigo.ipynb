{
  "nbformat": 4,
  "nbformat_minor": 0,
  "metadata": {
    "colab": {
      "provenance": [],
      "authorship_tag": "ABX9TyP7ePelgFgJEp4Qc3AvGySi",
      "include_colab_link": true
    },
    "kernelspec": {
      "name": "python3",
      "display_name": "Python 3"
    },
    "language_info": {
      "name": "python"
    }
  },
  "cells": [
    {
      "cell_type": "markdown",
      "metadata": {
        "id": "view-in-github",
        "colab_type": "text"
      },
      "source": [
        "<a href=\"https://colab.research.google.com/github/RogCas/Simulacion-Financiera/blob/main/Sin%20terminar%20codigo.ipynb\" target=\"_parent\"><img src=\"https://colab.research.google.com/assets/colab-badge.svg\" alt=\"Open In Colab\"/></a>"
      ]
    },
    {
      "cell_type": "code",
      "execution_count": 16,
      "metadata": {
        "colab": {
          "base_uri": "https://localhost:8080/"
        },
        "id": "R1Lft-Zvsmlv",
        "outputId": "ad53f88c-33bb-4ba5-9eaa-3e89728e9b8e"
      },
      "outputs": [
        {
          "name": "stdout",
          "output_type": "stream",
          "text": [
            "Cuantos conferencistas asistiran: 2\n",
            "\n",
            "Cuantos invitados asistiran: 2\n",
            "\n",
            "Cuanta ganancia minima espera obtener en porcentaje (escribir el numero de 0 a 100): 80\n",
            "\n",
            "Cuanta ganancia maxima espera obtener en porcentaje (escribir el numero de 0 a 100): 100\n",
            "\n",
            "Cuantas personas como minimo espera que vayan del lugar 1 al lugar 2 en porcentaje (escribir el numero de 0 a 100): 10\n",
            "\n",
            "Cuantas personas como maximo espera que vayan del lugar 1 al lugar 2 (escribir el numero de 0 a 100): 15\n"
          ]
        }
      ],
      "source": [
        "\n",
        "from ctypes import alignment\n",
        "import random\n",
        "import numpy as np\n",
        "from scipy.stats import norm\n",
        "import pandas as pd\n",
        "\n",
        "\n",
        "dolar = 16.72                       # Valor del dolar de hoy\n",
        "\n",
        "#Costos\n",
        "n_conferencistas = int(input(\"Cuantos conferencistas asistiran: \"))\n",
        "conferencistas = 2000 * dolar * n_conferencistas #dolar\n",
        "\n",
        "equipo_sonido = 50000 #Y otras cosas #pesos\n",
        "\n",
        "n_invitados = int(input(\"\\nCuantos invitados asistiran: \"))\n",
        "invitados = 1800 * dolar * n_invitados #dolar\n",
        "\n",
        "renta_espacio = 0 #pesos\n",
        "\n",
        "#Gastos de adminitracion\n",
        "a = 30000                           #Minimo de Gasto #pesos\n",
        "b = 50000                           #Maximo de Gasto #pesos\n",
        "\n",
        "#Gasto en pesos\n",
        "gasto_pesos1=a+equipo_sonido\n",
        "gasto_pesos2=b+equipo_sonido\n",
        "\n",
        "\n",
        "#Gasto en dolar\n",
        "gasto_dolar=conferencistas+invitados\n",
        "\n",
        "#Gasto Total\n",
        "gastoTotal1=gasto_pesos1+gasto_dolar #Minimo de Gastos\n",
        "gastoTotal2=gasto_pesos2+gasto_dolar #Maximo de Gastos\n",
        "\n",
        "\n",
        "#Asistencia\n",
        "asistentes_L1 = 2000\n",
        "asistentes_L2 = 4800\n",
        "\n",
        "def gasto(x):\n",
        "  gastos = gastoTotal1+(gastoTotal2-gastoTotal1)*x\n",
        "  return gastos\n",
        "\n",
        "def mas():\n",
        "  return 2\n",
        "\n",
        "def asistencia(x):\n",
        "  media=(asis1+asis2)/2\n",
        "  desviacion=3\n",
        "  asistencia = (norm.ppf(x, loc=media, scale=desviacion))/100\n",
        "  return asistencia\n",
        "\n",
        "def ganancia(x):\n",
        "  ganancia=(ag+(bg-ag)*x)/100\n",
        "  return ganancia\n",
        "\n",
        "def traslado(x):\n",
        "\n",
        "  traslado=(at+(bt-at)*x)/100\n",
        "  return traslado\n",
        "\n",
        "\n",
        "ag = int(input(\"\\nCuanta ganancia minima espera obtener en porcentaje (escribir el numero de 0 a 100): \"))\n",
        "bg = int(input(\"\\nCuanta ganancia maxima espera obtener en porcentaje (escribir el numero de 0 a 100): \"))\n",
        "\n",
        "\n",
        "at = int(input(\"\\nCuantas personas como minimo espera que vayan del lugar 1 al lugar 2 en porcentaje (escribir el numero de 0 a 100): \"))\n",
        "bt = int(input(\"\\nCuantas personas como maximo espera que vayan del lugar 1 al lugar 2 (escribir el numero de 0 a 100): \"))\n",
        "\n",
        "\n",
        "\n",
        "\n",
        "\n"
      ]
    },
    {
      "cell_type": "code",
      "source": [
        "\n",
        "\n",
        "aleatorio1=[]\n",
        "aleatorio2=[]\n",
        "aleatorio3=[]\n",
        "aleatorio4=[]\n",
        "sim_ganancia=[]\n",
        "sim_costos = []\n",
        "sim_asistencia = []\n",
        "traslados=[]\n",
        "\n",
        "n = 100 #Simulaciones\n",
        "asis1=80\n",
        "asis2=100\n",
        "\n",
        "for i in range(n):\n",
        "  aleatorio1.append(random.random())\n",
        "  sim_costos.append(gasto(aleatorio1[i]))\n",
        "  aleatorio2.append(random.random())\n",
        "  sim_asistencia.append(asistencia(aleatorio2[i]))\n",
        "  aleatorio3.append(random.random())\n",
        "  sim_ganancia.append(ganancia(aleatorio3[i]))\n",
        "  aleatorio4.append(random.random())\n",
        "  traslados.append(traslado(aleatorio4[i]))\n",
        "\n",
        "\n",
        "asistencia_lugar1 = [x * asistentes_L1 for x in sim_asistencia]\n",
        "asistencia_lugar2 = [x * asistentes_L2 for x in sim_asistencia]\n",
        "sim_precio0=((sum(sim_costos))/n)/((((sum(asistencia_lugar1))/n)+((sum(asistencia_lugar2))/n)))\n",
        "sim_preciog=sim_precio0*(1+((sum(sim_ganancia))/n))\n",
        "traslado1=sum(traslados)/n*asistentes_L1\n",
        "traslado2=sum(traslados)/n*asistentes_L2\n",
        "\n",
        "\n",
        "print(sum(asistencia_lugar1)/n)\n",
        "print(sum(asistencia_lugar2)/n)\n",
        "\n",
        "\n",
        "\n",
        "print(traslado2)\n",
        "#Problema 1\n",
        "#Asistencia Optimista del [80,100]%\n",
        "#Que precio debe tener el boleto para considerar por lo menos una ganacia nula\n",
        "print(sim_precio0)\n",
        "\n",
        "#Problema 2\n",
        "#Que precio debe tener el boleto si se consideran 2 invitados mas\n",
        "\n",
        "#Problema 3\n",
        "#Que precio debe tener el boleto para considerar una ganancia entre [10,15]%\n",
        "print(sim_preciog)\n",
        "\n",
        "#Problema 4\n",
        "#Considere que entre [15,30]% de los que compraron para el lugar 1 van al lugar 2\n",
        "print(traslado1)\n",
        "\n",
        "#Problema 5\n",
        "#Asistencia Media del [50,70]%\n",
        "\n",
        "#Problema 1\n",
        "#Asistencia Pesimista del [30,50]%\n"
      ],
      "metadata": {
        "id": "kZPc0AMdQUYH",
        "outputId": "4b0b2731-d55d-430e-9cc0-2ce563552ed1",
        "colab": {
          "base_uri": "https://localhost:8080/"
        }
      },
      "execution_count": 44,
      "outputs": [
        {
          "output_type": "stream",
          "name": "stdout",
          "text": [
            "1802.8299357313742\n",
            "4326.791845755299\n",
            "35.502309449168735\n",
            "67.3916780248815\n",
            "246.50589463843676\n",
            "591.6141471322481\n"
          ]
        }
      ]
    }
  ]
}