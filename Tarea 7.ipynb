{
  "nbformat": 4,
  "nbformat_minor": 0,
  "metadata": {
    "colab": {
      "provenance": [],
      "authorship_tag": "ABX9TyNXRYjS8xIEFqgeFQ/f3VuZ",
      "include_colab_link": true
    },
    "kernelspec": {
      "name": "python3",
      "display_name": "Python 3"
    },
    "language_info": {
      "name": "python"
    }
  },
  "cells": [
    {
      "cell_type": "markdown",
      "metadata": {
        "id": "view-in-github",
        "colab_type": "text"
      },
      "source": [
        "<a href=\"https://colab.research.google.com/github/RogCas/Simulacion-Financiera/blob/main/Tarea%207.ipynb\" target=\"_parent\"><img src=\"https://colab.research.google.com/assets/colab-badge.svg\" alt=\"Open In Colab\"/></a>"
      ]
    },
    {
      "cell_type": "markdown",
      "source": [
        "#Tarea 6\n",
        "Diseñar el modelo de simulacion\n",
        "Con ello determinar la media, mediana,moda y comparar con los datos reales"
      ],
      "metadata": {
        "id": "Der_mcOkX1Ud"
      }
    },
    {
      "cell_type": "markdown",
      "source": [
        "##Datos\n",
        "\n",
        "Nuestros Datos son\n",
        "\n",
        "| Edad | Probabilidad |\n",
        "|------|--------------|\n",
        "| 11   | 0.03         |\n",
        "| 12   | 0.08         |\n",
        "| 13   | 0.16         |\n",
        "| 14   | 0.22         |\n",
        "| 15   | 0.18         |\n",
        "| 16   | 0.13         |\n",
        "| 17   | 0.1          |\n",
        "| 18   | 0.06         |\n",
        "| 19   | 0.04         |"
      ],
      "metadata": {
        "id": "XsDC1Eb8X-Cz"
      }
    },
    {
      "cell_type": "markdown",
      "source": [
        "## Media, Mediana y Moda Reales\n",
        "La media se calcula con $\\sum_{i=1}^{n} xf(x)$\n",
        "\n",
        "La mediana se calcula ordenando los numeros de menor a mayor y agarrar la del medio, si el numero de datos es par agarramos los 2 del medio, sumamos y dividimos entre 2, si es impar solo agarramos la del medio\n",
        "\n",
        "La moda es el valor que mas se repite\n",
        "\n",
        "<br>\n",
        "\n",
        "Media Real = 14.77\n",
        "\n",
        "Mediana Real = 15\n",
        "\n",
        "Moda Real = 14"
      ],
      "metadata": {
        "id": "D6wPfcCOYZN7"
      }
    },
    {
      "cell_type": "markdown",
      "source": [
        "##Intervalo de Confianza\n",
        "Se calcula con $μ \\pm Z_{\\frac{a}{2}} \\cdot \\frac{\\sigma}{\\sqrt{n}}$"
      ],
      "metadata": {
        "id": "ux5u6vONZaaw"
      }
    },
    {
      "cell_type": "markdown",
      "source": [
        "##Hacemos la simulacion con el siguiente Codigo"
      ],
      "metadata": {
        "id": "FwfAtJKwZW3v"
      }
    },
    {
      "cell_type": "code",
      "source": [
        "import random\n",
        "import numpy as np\n",
        "import statistics\n",
        "import scipy.stats as stats\n",
        "import pandas as pd\n",
        "\n",
        "edades = [11, 12, 13, 14, 15, 16 , 17 , 18 ,19]\n",
        "probabilidad = [0.03, 0.08,0.16, 0.22, 0.18, 0.13, 0.1, .06 ,0.04 ]\n",
        "n = 1000000 #numero de simulaciones\n",
        "\n",
        "#intervalo = 0\n",
        "simEdad = []\n",
        "uLista = []\n",
        "\n",
        "def intervalos(u): #Funcion para saber que edad tienen\n",
        "    intervalo = 0\n",
        "    for s in range(len(probabilidad)):\n",
        "        if u <= intervalo + probabilidad[s]: #Probabilidad acumulada\n",
        "            simEdad.append (edades[s])\n",
        "            break\n",
        "        intervalo += probabilidad[s]\n",
        "\n",
        "for i in range(n): #Creamos nuestra simulacion\n",
        "    u = random.random()\n",
        "    uLista.append(u)\n",
        "    intervalos(u)\n",
        "\n",
        "\n",
        "media = sum(simEdad)/ n\n",
        "moda =  statistics.mode(simEdad)\n",
        "mediana = statistics.median(simEdad)\n",
        "\n",
        "mediaR =14.77\n",
        "medianaR = 15\n",
        "modaR =  14\n",
        "\n",
        "# imprimir resultados\n",
        "print(\"\\nValores Reales\")\n",
        "print(\"\\nLa media es: \", mediaR)\n",
        "print(\"\\nLa mediana es : \", medianaR)\n",
        "print(\"\\nLa moda es: \", modaR)\n",
        "print(\"\\n\")\n",
        "print(\"\\nValores Simulados\")\n",
        "print(\"\\nLa media simulada es: \", media)\n",
        "print(\"\\nLa mediana simulada es : \", mediana)\n",
        "print(\"\\nLa moda simulada es: \", moda)\n",
        "print(\"\\n\")\n",
        "# Intervalode confianza\n",
        "confianza=.95\n",
        "alpha=1-confianza\n",
        "alpha=alpha/2\n",
        "desviacion=np.std(simEdad)\n",
        "\n",
        "intervalo1=media+stats.norm.ppf(alpha)*desviacion/np.sqrt(n)\n",
        "intervalo2=media-stats.norm.ppf(alpha)*desviacion/np.sqrt(n)\n",
        "\n",
        "\n",
        "print(\"\\nEl intervalode confianza al \", confianza, \"% es :\",intervalo1, intervalo2)\n",
        "\n",
        "\n",
        ""
      ],
      "metadata": {
        "colab": {
          "base_uri": "https://localhost:8080/"
        },
        "id": "tT_UhrQEZWX-",
        "outputId": "fb7d4d2c-3d66-4b1e-8533-03dbc10609a2"
      },
      "execution_count": 10,
      "outputs": [
        {
          "output_type": "stream",
          "name": "stdout",
          "text": [
            "\n",
            "Valores Reales\n",
            "\n",
            "La media es:  14.77\n",
            "\n",
            "La mediana es :  15\n",
            "\n",
            "La moda es:  14\n",
            "\n",
            "\n",
            "\n",
            "Valores Simulados\n",
            "\n",
            "La media simulada es:  14.771058\n",
            "\n",
            "La mediana simulada es :  15.0\n",
            "\n",
            "La moda simulada es:  14\n",
            "\n",
            "\n",
            "\n",
            "El intervalode confianza al  0.95 % es : 14.767281425779725 14.774834574220275\n"
          ]
        }
      ]
    }
  ]
}