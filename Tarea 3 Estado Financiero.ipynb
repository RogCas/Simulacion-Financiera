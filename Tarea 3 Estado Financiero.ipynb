{
  "nbformat": 4,
  "nbformat_minor": 0,
  "metadata": {
    "colab": {
      "provenance": [],
      "authorship_tag": "ABX9TyOZtlLpUnu/MKTybBECkIUK",
      "include_colab_link": true
    },
    "kernelspec": {
      "name": "python3",
      "display_name": "Python 3"
    },
    "language_info": {
      "name": "python"
    }
  },
  "cells": [
    {
      "cell_type": "markdown",
      "metadata": {
        "id": "view-in-github",
        "colab_type": "text"
      },
      "source": [
        "<a href=\"https://colab.research.google.com/github/RogCas/Simulacion-Financiera/blob/main/Tarea%203%20Estado%20Financiero.ipynb\" target=\"_parent\"><img src=\"https://colab.research.google.com/assets/colab-badge.svg\" alt=\"Open In Colab\"/></a>"
      ]
    },
    {
      "cell_type": "markdown",
      "source": [
        "#Tarea 3\n"
      ],
      "metadata": {
        "id": "7OLF5HnFvIGY"
      }
    },
    {
      "cell_type": "markdown",
      "source": [
        "##Codigo Para Calcular el Estado Financiero de una empresa"
      ],
      "metadata": {
        "id": "qB-vvd8zvO6E"
      }
    },
    {
      "cell_type": "code",
      "execution_count": 46,
      "metadata": {
        "id": "dO88JY8Lgezg"
      },
      "outputs": [],
      "source": [
        "import random\n",
        "import matplotlib.pyplot as plt\n",
        "from scipy.stats import norm\n",
        "import pandas as pd\n",
        "import math\n",
        "\n",
        "\n",
        "n=100 #Numero de Simulaciones\n",
        "\n",
        "\n",
        "\n",
        "#Distribuciones Normales\n",
        "\n",
        "\n",
        "#Activo Operativo Neto\n",
        "\n",
        "media=1000\n",
        "desviacion=170\n",
        "actOpNetList=[] #Lista para guardar\n",
        "u1List=[]\n",
        "for i in range(n):\n",
        "  u1=random.random() #Aleatorio entre 0 y 1\n",
        "  actOpNet=norm.ppf(u1, loc=media, scale=desviacion) #Activo Operativo Neto\n",
        "  actOpNetList.append(actOpNet) #Agregamos a la lista\n",
        "  u1List.append(u1)\n",
        "actOpNetSim=sum(actOpNetList)/n #Activo Operativo Neto Simulado\n",
        "\n",
        "\n",
        "#Ganancias Operativas\n",
        "\n",
        "media=130\n",
        "desviacion=20\n",
        "GanOpList=[] #Lista para guardar\n",
        "u2List=[]\n",
        "for i in range(n):\n",
        "  u2=random.random() #Aleatorio entre 0 y 1\n",
        "  GanOp=norm.ppf(u2, loc=media, scale=desviacion) #Ganancias Operativas\n",
        "  GanOpList.append(GanOp) #Agregamos a la lista\n",
        "  u2List.append(u2)\n",
        "GanOpSim=sum(GanOpList)/n #Ganancias Operativas Simuladas\n",
        "\n",
        "\n",
        "\n",
        "\n",
        "\n",
        "\n",
        "\n",
        "\n",
        "#Distribuciones Exponenciales\n",
        "\n",
        "#Ventas\n",
        "media=1100\n",
        "lamda=1/media\n",
        "ventasList=[]\n",
        "u3List=[]\n",
        "for i in range(n):\n",
        "  u3=random.random() #Aleatorio entre 0 y 1\n",
        "  ventas=-media*math.log(u3) #ventas\n",
        "  ventasList.append(ventas) #Agregamos a la lista\n",
        "  u3List.append(u2)\n",
        "ventaSim=sum(ventasList)/n #Ventas Simuladas\n",
        "\n",
        "\n",
        "#Costo Pasivo Financiero\n",
        "media=22\n",
        "lamda=1/media\n",
        "costoPasFinList=[]\n",
        "u4List=[]\n",
        "for i in range(n):\n",
        "  u4=random.random() #Aleatorio entre 0 y 1\n",
        "  costoPasFin=-media*math.log(u4) #Costo Pasivo Financiero\n",
        "  costoPasFinList.append(costoPasFin) #Agregamos a la Lista\n",
        "  u4List.append(u4)\n",
        "costoPasFinSim=sum(costoPasFinList)/n #Ventas Simuladas\n",
        "\n",
        "\n",
        "\n",
        "\n",
        "\n",
        "\n",
        "#Distribuciones Uniformes\n",
        "\n",
        "#Pasivo Financiero\n",
        "a=260\n",
        "b=290\n",
        "pasivoFinList=[]\n",
        "u5List=[]\n",
        "for i in range(n):\n",
        "  u5=((b-a)*random.random())+a #Aleatorio entre 0 y 1\n",
        "  pasivoFinList.append(u5) #Agregamos a la Lista\n",
        "  u5List.append(u5)\n",
        "pasivoFinSim=sum(pasivoFinList)/n #Pasivo Financiero Simulado\n",
        "\n",
        "\n",
        "\n",
        "\n",
        "\n"
      ]
    },
    {
      "cell_type": "markdown",
      "source": [
        "##Tabla del Estado Financiero Simulado"
      ],
      "metadata": {
        "id": "U3mU6aqIveuB"
      }
    },
    {
      "cell_type": "code",
      "source": [
        "# Creamos el Balance\n",
        "datos = {\n",
        "    'Activo Operativo Neto': {'Simulacion': actOpNetSim, 'Descripcion': 'Se distribuye como una Normal'},\n",
        "    'Pasivo Financiero': {'Simulacion': pasivoFinSim, 'Descripcion': 'Se distribuye como Uniforme'},\n",
        "    'Patrimonio Neto': {'Simulacion': actOpNetSim-pasivoFinSim, 'Descripcion': 'Es el Activo Operativo Neto \"menos\" el Pasivo Financiero'},\n",
        "    'Ventas': {'Simulacion': ventaSim, 'Descripcion': 'Se distribuye como una Exponencial'},\n",
        "    'Ganancias Operativas': {'Simulacion': GanOpSim, 'Descripcion': 'Se distribuye como una Normal'},\n",
        "    'Costo Pasivo Financiero': {'Simulacion': costoPasFinSim, 'Descripcion': 'Se distribuye como una Exponencial'},\n",
        "    'Ganancias Ordinarias': {'Simulacion': GanOpSim-costoPasFinSim, 'Descripcion': 'Son las Ganancias Operativa \"menos\" el Costo Pasivo Financiero'}\n",
        "}\n",
        "\n",
        "# Crear un DataFrame con los datos\n",
        "df = pd.DataFrame(datos.values(), index=datos.keys(), columns=['Simulacion', 'Descripcion'])\n",
        "\n",
        "# Imprimir la tabla\n",
        "print(df.to_string(index=True, header=True))\n"
      ],
      "metadata": {
        "colab": {
          "base_uri": "https://localhost:8080/"
        },
        "id": "DWgGpXeWlzrp",
        "outputId": "d72c0177-5361-4074-9d9a-5bb413698fad"
      },
      "execution_count": 47,
      "outputs": [
        {
          "output_type": "stream",
          "name": "stdout",
          "text": [
            "                          Simulacion                                                     Descripcion\n",
            "Activo Operativo Neto    1000.681741                                   Se distribuye como una Normal\n",
            "Pasivo Financiero         274.705003                                     Se distribuye como Uniforme\n",
            "Patrimonio Neto           725.976738        Es el Activo Operativo Neto \"menos\" el Pasivo Financiero\n",
            "Ventas                   1254.613439                              Se distribuye como una Exponencial\n",
            "Ganancias Operativas      127.549703                                   Se distribuye como una Normal\n",
            "Costo Pasivo Financiero    22.028100                              Se distribuye como una Exponencial\n",
            "Ganancias Ordinarias      105.521604  Son las Ganancias Operativa \"menos\" el Costo Pasivo Financiero\n"
          ]
        }
      ]
    },
    {
      "cell_type": "markdown",
      "source": [
        "##Tablas de Simulaciones"
      ],
      "metadata": {
        "id": "pjOvbLfqvjAH"
      }
    },
    {
      "cell_type": "code",
      "source": [
        "# Creamos las tablas de simulaciones\n",
        "\n",
        "m=5 #numero de simulaciones que queremos ver\n",
        "\n",
        "                                                #Tabla Activo Operativo Neto\n",
        "\n",
        "# Listas de datos\n",
        "aleatorios = u1List[:m]\n",
        "simulados= actOpNetList[:m]\n",
        "\n",
        "# Crear DataFrame\n",
        "df = pd.DataFrame({'#': range(1, len(aleatorios) + 1), 'Aleatorio': aleatorios, 'Activo Operativo Neto': simulados})\n",
        "\n",
        "# Imprimir la tabla\n",
        "print(df.to_string(index=False))\n",
        "print()\n",
        "print()\n",
        "\n",
        "                                                #Tabla Pasivo Financiero\n",
        "\n",
        "# Listas de datos\n",
        "aleatorios = u5List[:m]\n",
        "simulados= pasivoFinList[:m]\n",
        "\n",
        "# Crear DataFrame\n",
        "df = pd.DataFrame({'#': range(1, len(aleatorios) + 1), 'Aleatorio': aleatorios, 'Pasivo Financiero': simulados})\n",
        "\n",
        "# Imprimir la tabla\n",
        "print(df.to_string(index=False))\n",
        "print()\n",
        "print()\n",
        "\n",
        "                                                #Tabla Ventas\n",
        "\n",
        "# Listas de datos\n",
        "aleatorios = u3List[:m]\n",
        "simulados= ventasList[:m]\n",
        "\n",
        "# Crear DataFrame\n",
        "df = pd.DataFrame({'#': range(1, len(aleatorios) + 1), 'Aleatorio': aleatorios, 'Ventas': simulados})\n",
        "\n",
        "# Imprimir la tabla\n",
        "print(df.to_string(index=False))\n",
        "print()\n",
        "print()\n",
        "\n",
        "                                                #Tabla Ganancias Operativas\n",
        "\n",
        "# Listas de datos\n",
        "aleatorios = u2List[:m]\n",
        "simulados= GanOpList[:m]\n",
        "\n",
        "# Crear DataFrame\n",
        "df = pd.DataFrame({'#': range(1, len(aleatorios) + 1), 'Aleatorio': aleatorios, 'Ganancias Operativas': simulados})\n",
        "\n",
        "# Imprimir la tabla\n",
        "print(df.to_string(index=False))\n",
        "print()\n",
        "print()\n",
        "                                                #Tabla Costo Pasivo Financiero\n",
        "\n",
        "# Listas de datos\n",
        "aleatorios = u4List[:m]\n",
        "simulados= costoPasFinList[:m]\n",
        "\n",
        "# Crear DataFrame\n",
        "df = pd.DataFrame({'#': range(1, len(aleatorios) + 1), 'Aleatorio': aleatorios, 'Costo Pasivo Financiero': simulados})\n",
        "\n",
        "# Imprimir la tabla\n",
        "print(df.to_string(index=False))"
      ],
      "metadata": {
        "colab": {
          "base_uri": "https://localhost:8080/"
        },
        "id": "luK8wlRzqEJL",
        "outputId": "2839bc60-82ff-446c-97c6-e07ede0bbe2c"
      },
      "execution_count": 48,
      "outputs": [
        {
          "output_type": "stream",
          "name": "stdout",
          "text": [
            " #  Aleatorio  Activo Operativo Neto\n",
            " 1   0.163977             833.698450\n",
            " 2   0.415760             963.832255\n",
            " 3   0.806794            1147.244082\n",
            " 4   0.644624            1063.043798\n",
            " 5   0.832591            1163.957012\n",
            "\n",
            "\n",
            " #  Aleatorio  Pasivo Financiero\n",
            " 1 269.939183         269.939183\n",
            " 2 270.199915         270.199915\n",
            " 3 283.777380         283.777380\n",
            " 4 282.881820         282.881820\n",
            " 5 282.507493         282.507493\n",
            "\n",
            "\n",
            " #  Aleatorio      Ventas\n",
            " 1   0.029855 1122.722498\n",
            " 2   0.029855 2095.966550\n",
            " 3   0.029855  388.665716\n",
            " 4   0.029855 8747.873846\n",
            " 5   0.029855 2181.036106\n",
            "\n",
            "\n",
            " #  Aleatorio  Ganancias Operativas\n",
            " 1   0.798572            146.730635\n",
            " 2   0.902454            155.913233\n",
            " 3   0.266808            117.550111\n",
            " 4   0.121877            106.686932\n",
            " 5   0.951767            163.244667\n",
            "\n",
            "\n",
            " #  Aleatorio  Costo Pasivo Financiero\n",
            " 1   0.936028                 1.454416\n",
            " 2   0.935087                 1.476537\n",
            " 3   0.546808                13.280459\n",
            " 4   0.226875                32.633873\n",
            " 5   0.921659                 1.794758\n"
          ]
        }
      ]
    },
    {
      "cell_type": "code",
      "source": [],
      "metadata": {
        "id": "uEl0bLQcv9hI"
      },
      "execution_count": null,
      "outputs": []
    }
  ]
}