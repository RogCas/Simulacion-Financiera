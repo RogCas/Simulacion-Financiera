{
  "nbformat": 4,
  "nbformat_minor": 0,
  "metadata": {
    "colab": {
      "provenance": [],
      "authorship_tag": "ABX9TyNZUcW66nJtA+SJOuymKyvn",
      "include_colab_link": true
    },
    "kernelspec": {
      "name": "python3",
      "display_name": "Python 3"
    },
    "language_info": {
      "name": "python"
    }
  },
  "cells": [
    {
      "cell_type": "markdown",
      "metadata": {
        "id": "view-in-github",
        "colab_type": "text"
      },
      "source": [
        "<a href=\"https://colab.research.google.com/github/RogCas/Simulacion-Financiera/blob/main/Examen%201%20Parcial.ipynb\" target=\"_parent\"><img src=\"https://colab.research.google.com/assets/colab-badge.svg\" alt=\"Open In Colab\"/></a>"
      ]
    },
    {
      "cell_type": "markdown",
      "source": [
        "#Examen Primer Parcial\n",
        "Seminario de Modelacion Financiera\n",
        "\n",
        "******\n",
        "<center><b><i>Castillo Pruneda Rogelio Gabriel</i></b></center>\n",
        "\n",
        "<center><b><i>2021330235</i></b></center>\n",
        "\n",
        "******\n",
        "\n",
        "<br>\n",
        "\n",
        "\n",
        "<center>Un trasporte publico de pasajeros tiene las siguientes características</center>\n",
        "\n",
        "<br>\n",
        "\n",
        "- a. El llenado de pasajeros tiene un modelo de Poisson, con media 40, que se\n",
        "renueva cada 45 minutos (recuerda que la distribución de Poisson no tiene memoria)\n",
        "\n",
        "(lo cambiamos de 3h ya que nos darian ganancias negativas)\n",
        "\n",
        "(puse 45 ya que con 30 min me da demasiado)\n",
        "\n",
        "\n",
        "\n",
        "\n",
        "<br>\n",
        "\n",
        "- b. Cada pasajero que sube al trasporte paga 7 u 8 pesos dependiendo de la distancia (menos de 5 km son 7 pesos y más de 5 km son 8 pesos.\n",
        "\n",
        "<br>\n",
        "\n",
        "- c. En una vuelta (considere 3 horas para cubrir el circuito) los pasajeros que se trasladan más de 5 km es una distribución uniforme de entre 15 y 23 pasajeros.\n",
        "\n",
        "<br>\n",
        "\n",
        "- d. El gasto de combustible en un circuito completo se comporta como una distribución normal con media de 40 litros y varianza de 25. Investigue el precio del diesel en una semana y realiza un pronóstico adecuado para este\n",
        "caso.\n",
        "\n",
        "<br>\n",
        "\n",
        "- e. Considere que cada día hay un desgaste general del camión y se tiene que hacer un ahorro, considere que esos\n",
        "gastos se pueden tomar como una depreciación. Considere o investigue para tener los datos más acertados\n",
        "posibles.\n",
        "\n",
        "<br>\n",
        "\n",
        "- f. En un día habitual un chofer realiza 4 circuitos completos.\n",
        "\n",
        "<br>\n",
        "\n",
        "<center>Determine las ganancias de un camión de pasajeros en un día completo usando por lo menos 100 simulaciones para cada circuito</center>\n"
      ],
      "metadata": {
        "id": "x3NT3SD0qc7f"
      }
    },
    {
      "cell_type": "markdown",
      "source": [
        "## Inciso a)\n",
        "\n",
        "En mi caso el transporte publico que elegire sera de una combi, ya que es lo que a mi parecer se asemeja a estos datos\n",
        "\n",
        "Este inciso nos dice que en promedio cada 45 minutos se suben 40 pasajeros\n",
        "\n",
        "Haremos este inciso con el siguiente codigo\n",
        "\n"
      ],
      "metadata": {
        "id": "3BkYA2zbsXfu"
      }
    },
    {
      "cell_type": "code",
      "source": [
        "import numpy as np\n",
        "\n",
        "def totalPasajerosS():\n",
        "  ## Total De Pasajeros\n",
        "  media = 40  # Media cada 45 minutos\n",
        "  totalPasajeros=np.random.poisson(media) #Numero total de pasajeros\n",
        "\n",
        "  print(\"\\n El total de pasajeros que se sube cada 45 min es de : \", totalPasajeros, \" personas\")\n",
        "\n",
        "totalPasajerosS()"
      ],
      "metadata": {
        "colab": {
          "base_uri": "https://localhost:8080/"
        },
        "id": "nT2Vo80KtV0Y",
        "outputId": "3d9ff985-3186-4d94-8947-8dc68b1838d6"
      },
      "execution_count": 357,
      "outputs": [
        {
          "output_type": "stream",
          "name": "stdout",
          "text": [
            "\n",
            " El total de pasajeros que se sube cada 45 min es de :  47  personas\n"
          ]
        }
      ]
    },
    {
      "cell_type": "markdown",
      "source": [
        "## Inciso b) y c)\n",
        "\n",
        "El inciso b) nos dice que si una persona viaja menos de 5k paga 7 pesos y si viaja mas de 5km paga 8 pesos\n",
        "\n",
        "El inciso c) nos dice que en una vuelta es decir (cada 45 min) los pasajeros que pagan 8 pesos son minimo 15 y maximo 23\n",
        "\n",
        "Entonces con el numero de pasajeros que calculamos en el inciso a), le restaremos los pasajeros que viajan mas de 5km para obtener a los pasajeros que viajan menos de 5km\n",
        "\n",
        "Haremos estos incisos con el siguiente codigo"
      ],
      "metadata": {
        "id": "WJt61l0WtraE"
      }
    },
    {
      "cell_type": "code",
      "source": [
        "import numpy as np\n",
        "\n",
        "\n",
        "def totalPasajerosS():\n",
        "  ## Total De Pasajeros\n",
        "  media = 40  # Media cada 45 minutos\n",
        "  totalPasajeros=np.random.poisson(media) #Numero total de pasajeros\n",
        "\n",
        "  print(\"\\n El total de pasajeros que se sube cada 45 min es de : \", totalPasajeros, \" personas\")\n",
        "\n",
        "  ##Cada pasajero que sube al trasporte paga 7 u 8 pesos dependiendo de la distancia (menos de 5 km son 7 pesos y más de 5 km son 8 pesos.\n",
        "\n",
        "  ##Pasajeros que se trasladan más de 5 km (8 pesos) ##Cada 45 minutos\n",
        "\n",
        "  #Esta solo regresa numeros enteros entre 15 y 24 ya que son personas,\n",
        "  #Se le añade 1 por como esta definida la funcion\n",
        "  pasajeros8=np.random.randint(15,24)\n",
        "\n",
        "  print(\"\\n El total de pasajeros que se sube cada 45 min y que pagan 8 pesos es de : \", pasajeros8, \" personas\")\n",
        "\n",
        "  #Pasajeros que se trasladan menos de 5 km (7 pesos) ##Cada 45 minutos\n",
        "  pasajeros7=totalPasajeros-pasajeros8\n",
        "  print(\"\\n El total de pasajeros que se sube cada 45 min y que pagan 7 pesos es de : \", pasajeros7, \" personas\")\n",
        "\n",
        "  ganancias=pasajeros8*8+pasajeros7*7\n",
        "  print(\"\\n El total de ganancias en 45 minutos es de : \", ganancias, \" pesos mexicanos\")\n",
        "\n",
        "  #return totalPasajerosS,pasajeros7,pasajeros8,ganancias\n",
        "\n",
        "totalPasajerosS()"
      ],
      "metadata": {
        "colab": {
          "base_uri": "https://localhost:8080/"
        },
        "id": "CaxogYR_uSo5",
        "outputId": "e1141556-cc0d-4fb0-9ca5-00751da142c6"
      },
      "execution_count": 358,
      "outputs": [
        {
          "output_type": "stream",
          "name": "stdout",
          "text": [
            "\n",
            " El total de pasajeros que se sube cada 45 min es de :  38  personas\n",
            "\n",
            " El total de pasajeros que se sube cada 45 min y que pagan 8 pesos es de :  23  personas\n",
            "\n",
            " El total de pasajeros que se sube cada 45 min y que pagan 7 pesos es de :  15  personas\n",
            "\n",
            " El total de ganancias en 45 minutos es de :  289  pesos mexicanos\n"
          ]
        }
      ]
    },
    {
      "cell_type": "markdown",
      "source": [
        "##Inciso d)\n",
        "\n",
        "Este inciso es para calcular cuanto combustible gasta en un circuito, es decir cada 6 recargas de pasajeros\n",
        "\n",
        "Tambien usaremos los datos de 2 semanas anteriores para calcular el precio del diesel hoy\n",
        "\n",
        "Para esto usaremos los precios de la pagina de noticias de Azteca\n",
        "\n",
        "https://www.tvazteca.com/aztecanoticias/precio-la-gasolina-hoy-cdmx-12-marzo-2024-mexico-edomex-zacatecas-nuevo-leon\n",
        "\n",
        "\n",
        "Haremos este inciso con el siguiente codigo"
      ],
      "metadata": {
        "id": "vCOQmxuqxbkm"
      }
    },
    {
      "cell_type": "code",
      "source": [
        "def combustible():\n",
        "  #Gasto de combustible\n",
        "  mediaCombustible=40\n",
        "  varianzaCombustible=25\n",
        "  desviacionCombustible=np.sqrt(varianzaCombustible)\n",
        "\n",
        "  #Estimacion del precio de la gasolina el 27 de Marzo en CDMX\n",
        "  #Del 12 de marzo al 26 de Marzo en CDMX\n",
        "\n",
        "  precioDieselLista=[24.32,24.28,24.31,24.27,24.23,24.29,24.31,24.32,24.37,24.37,24.39,24.47,24.47, 24.44,24.48]\n",
        "  precioDiesel=sum(precioDieselLista)/len(precioDieselLista)\n",
        "  print(\"\\n El Precio de la gasolina el 27 de Marzo es de : \", precioDiesel , \" por litro\")\n",
        "\n",
        "  combustible=np.random.normal(mediaCombustible,desviacionCombustible)\n",
        "\n",
        "  combustibleSim=combustible*precioDiesel\n",
        "  print(\"\\n El total de combustible usado en un circuito completo es de : \", combustible , \" litros\")\n",
        "\n",
        "\n",
        "  print(\"\\n El gasto de gasolina es de combustible en un circuito completo es de : \", combustibleSim,\" pesos mexicanos\")\n",
        "\n",
        "combustible()"
      ],
      "metadata": {
        "colab": {
          "base_uri": "https://localhost:8080/"
        },
        "id": "F9PSCoqix8ov",
        "outputId": "bb26d04e-53a6-41fb-88a8-36727c14e38b"
      },
      "execution_count": 359,
      "outputs": [
        {
          "output_type": "stream",
          "name": "stdout",
          "text": [
            "\n",
            " El Precio de la gasolina el 27 de Marzo es de :  24.354666666666667  por litro\n",
            "\n",
            " El total de combustible usado en un circuito completo es de :  27.005167128644356  litros\n",
            "\n",
            " El gasto de gasolina es de combustible en un circuito completo es de :  657.701843695757  pesos mexicanos\n"
          ]
        }
      ]
    },
    {
      "cell_type": "markdown",
      "source": [
        "##Inciso e)\n",
        "\n",
        "Este inciso son todos los gastos de mantenimiento que ocupa la combi cada dia\n",
        "\n",
        "Yo usare\n",
        "\n",
        "\n",
        "1.   Las llantas [2,000 , 4,000] al mes\n",
        "\n",
        "https://listado.mercadolibre.com.mx/llantas-para-combi-vw\n",
        "2.   El cambio de aceite [700 , 2000] al mes\n",
        "\n",
        "\n",
        "https://raga.com.mx/pages/cambio-de-aceite\n",
        "\n",
        "3.   Placas [893] al año\n",
        "\n",
        "https://www.semovi.cdmx.gob.mx/tramites-y-servicios/vehiculos-particulares/placas/alta-de-placas-vehiculos-usados/alta-de-placas-vehiculos-usados-de-la-cdmx\n",
        "\n",
        "4.   Verificacion [708] al año\n",
        "\n",
        "https://www.eluniversal.com.mx/autopistas/verificacion-2024-precio-y-calendario/#:~:text=%C2%BFCu%C3%A1nto%20cuesta%20la%20verificaci%C3%B3n%3F,de%20factura%20o%20carta%20factura.\n",
        "\n",
        "5.   Poliza de seguro [1,168 , 21,409.00] al año\n",
        "\n",
        "https://actinver.com/cuanto-cuesta-un-seguro-de-auto#:~:text=En%20general%2C%20en%20nuestro%20pa%C3%ADs,pa%C3%ADs%20es%20de%20%248%2C000.00%20pesos.\n",
        "\n",
        "6.   Tarjeta de circulacion [340] al año\n",
        "\n",
        "https://www.fiat.com.mx/blog/car-friendly/tarjeta-de-circulacion-cdmx-como-renovarla-en-linea.html#:~:text=%2D%20Selecciona%20tu%20m%C3%A9todo%20de%20pago,solicitud%20se%20actualizar%C3%A1%20a%20Finalizado.\n",
        "\n",
        "7.  Chequeo [2,550 , 8,200] al año\n",
        "\n",
        "\n",
        "https://miituo.com/blog/cuanto-cuesta-un-servicio-automotriz/\n",
        "\n",
        "\n",
        "Todo esto lo calculare con uniformes del precio minimo al precio maximo de cada uno\n",
        "\n",
        "Tambien hare una depreciacion, suponiendo que la combi la compro hace 7 años y se deprecio 15% cada año, su precio de compra fue de 300,000 y su vida util es de 10 años\n",
        "\n",
        "Me basare en los precios de mercado libre\n",
        "https://autos.mercadolibre.com.mx/volkswagen/combi/\n",
        "\n",
        "Haremos lo siguiente con el"
      ],
      "metadata": {
        "id": "_VZLllic17h3"
      }
    },
    {
      "cell_type": "code",
      "source": [
        "def mantenimiento():\n",
        "  #Suponiendo que trabaja 243 dias del año\n",
        "  #Estos son gastos al dia es decir 4 circuitos\n",
        "  llantas=np.random.uniform(2000,4000)/20 #U(2000,4000) al mes\n",
        "  cambioAceite=np.random.uniform(700,2000)/20 #U(700,2000) al mes\n",
        "  placas=893/243 #893 al año\n",
        "  verificacion=708/243 # 708 al año\n",
        "  polizaSeguro=np.random.uniform(1168,21409)/243 #U(1168,21409) al año\n",
        "  tarjetaCirculacion=340/243 #340 al año\n",
        "  chequeo=np.random.uniform(2550,8200)/243 #U(2550,8200) al año\n",
        "\n",
        "  gastosMantenimiento=(llantas+cambioAceite+placas+verificacion+polizaSeguro+tarjetaCirculacion+chequeo)\n",
        "\n",
        "  #return gastosMantenimiento\n",
        "  print(\"\\n El total de gastos en un dia es de :\", gastosMantenimiento, \" pesos mexicanos\")\n",
        "\n",
        "mantenimiento()"
      ],
      "metadata": {
        "colab": {
          "base_uri": "https://localhost:8080/"
        },
        "id": "wfYWKLZm6WBN",
        "outputId": "ce6ead49-fc9a-4dba-e3bb-b432451cee43"
      },
      "execution_count": 360,
      "outputs": [
        {
          "output_type": "stream",
          "name": "stdout",
          "text": [
            "\n",
            " El total de gastos en un dia es de : 269.28801747768983  pesos mexicanos\n"
          ]
        }
      ]
    },
    {
      "cell_type": "code",
      "source": [
        "def depreciacion():\n",
        "  costo=300000\n",
        "  depreciacion=0.15 #al año\n",
        "  añoCompra=7\n",
        "  costohoy=costo*((1-depreciacion)**7) #Cuanto vale este año\n",
        "\n",
        "  #Aexp(ax)\n",
        "  #A=costo\n",
        "  #alpha=ln(costohoy/A)/7\n",
        "  #costo*exp(alpha*x) x=8  para el siguiente año\n",
        "\n",
        "  A=costo\n",
        "  alpha=(np.log(costohoy/A))/7\n",
        "\n",
        "  #A*exp(alpha*x) x=8  para el siguiente año\n",
        "  prediccion=A*np.exp(alpha*8)\n",
        "  prediccion=prediccion/243\n",
        "\n",
        "  #return prediccion\n",
        "  print(\"\\n La depreciacion de la combi al dia es de :\", prediccion, \" pesos mexicanos\")\n",
        "\n",
        "depreciacion()"
      ],
      "metadata": {
        "colab": {
          "base_uri": "https://localhost:8080/"
        },
        "id": "PDXs6_FwKcK-",
        "outputId": "08a2b030-f50d-41ed-defe-21df05ea77c6"
      },
      "execution_count": 361,
      "outputs": [
        {
          "output_type": "stream",
          "name": "stdout",
          "text": [
            "\n",
            " La depreciacion de la combi al dia es de : 336.4080556037808  pesos mexicanos\n"
          ]
        }
      ]
    },
    {
      "cell_type": "markdown",
      "source": [
        "##Inciso f)\n",
        "\n",
        "Este inciso nos dice que\n",
        "\n",
        "En un día habitual un chofer realiza 4 circuitos completos\n",
        "\n",
        "1 circuito completo es cada 3h\n",
        "\n",
        "Entonces hay que hacer 6 veces la simulacion de pasajeros ya que esta es con poisson\n",
        "\n"
      ],
      "metadata": {
        "id": "icL-8sL19A-d"
      }
    },
    {
      "cell_type": "code",
      "source": [
        "import numpy as np\n",
        "\n",
        "\n",
        "def totalPasajerosS():\n",
        "  ## Total De Pasajeros\n",
        "  media = 40  # Media cada 45 minutos\n",
        "  totalPasajeros=np.random.poisson(media) #Numero total de pasajeros\n",
        "\n",
        "  #print(\"\\n El total de pasajeros que se sube cada 45 min es de : \", totalPasajeros, \" personas\")\n",
        "\n",
        "  ##Cada pasajero que sube al trasporte paga 7 u 8 pesos dependiendo de la distancia (menos de 5 km son 7 pesos y más de 5 km son 8 pesos.\n",
        "\n",
        "  ##Pasajeros que se trasladan más de 5 km (8 pesos) ##Cada 45 minutos\n",
        "\n",
        "  #Esta solo regresa numeros enteros entre 15 y 24 ya que son personas,\n",
        "  #Se le añade 1 por como esta definida la funcion\n",
        "  pasajeros8=np.random.randint(15,24)\n",
        "\n",
        "  #print(\"\\n El total de pasajeros que se sube cada 45 min y que pagan 8 pesos es de : \", pasajeros8, \" personas\")\n",
        "\n",
        "  #Pasajeros que se trasladan menos de 5 km (7 pesos) ##Cada 45 minutos\n",
        "  pasajeros7=totalPasajeros-pasajeros8\n",
        "  #print(\"\\n El total de pasajeros que se sube cada 45 min y que pagan 7 pesos es de : \", pasajeros7, \" personas\")\n",
        "\n",
        "  ganancias=pasajeros8*8+pasajeros7*7\n",
        "  #print(\"\\n El total de ganancias en 45 minutos es de : \", ganancias, \" pesos mexicanos\")\n",
        "\n",
        "  return totalPasajerosS,pasajeros7,pasajeros8,ganancias\n",
        "\n",
        "def combustible(): #Cada circuito (3 horas)\n",
        "  #Gasto de combustible\n",
        "  mediaCombustible=40\n",
        "  varianzaCombustible=25\n",
        "  desviacionCombustible=np.sqrt(varianzaCombustible)\n",
        "\n",
        "  #Estimacion del precio de la gasolina el 27 de Marzo en CDMX\n",
        "  #Del 12 de marzo al 26 de Marzo en CDMX\n",
        "\n",
        "  precioDieselLista=[24.32,24.28,24.31,24.27,24.23,24.29,24.31,24.32,24.37,24.37,24.39,24.47,24.47, 24.44,24.48]\n",
        "  precioDiesel=sum(precioDieselLista)/len(precioDieselLista)\n",
        "  #print(\"\\n El Precio de la gasolina el 27 de Marzo es de : \", precioDiesel , \" por litro\")\n",
        "\n",
        "  combustible=np.random.normal(mediaCombustible,desviacionCombustible)\n",
        "  #print(\"\\n El total de combustible usado en un circuito completo es de : \", combustible , \" litros\")\n",
        "\n",
        "  combustibleSim=combustible*precioDiesel\n",
        "\n",
        "\n",
        "\n",
        "  #print(\"\\n El gasto de gasolina es de combustible en un circuito completo es de : \", combustibleSim,\" pesos mexicanos\")\n",
        "\n",
        "  return combustibleSim\n",
        "\n",
        "def mantenimiento(): #Cada dia (Cada 4 circuitos)\n",
        "  #Suponiendo que trabaja 243 dias del año\n",
        "  llantas=np.random.uniform(2000,4000)/20 #U(2000,4000) al mes\n",
        "  cambioAceite=np.random.uniform(700,2000)/20 #U(700,2000) al mes\n",
        "  placas=893/243 #893 al año\n",
        "  verificacion=708/243 # 708 al año\n",
        "  polizaSeguro=np.random.uniform(1168,21409)/243 #U(1168,21409) al año\n",
        "  tarjetaCirculacion=340/243 #340 al año\n",
        "  chequeo=np.random.uniform(2550,8200)/243 #U(2550,8200) al año\n",
        "\n",
        "  gastosMantenimiento=(llantas+cambioAceite+placas+verificacion+polizaSeguro+tarjetaCirculacion+chequeo)\n",
        "\n",
        "  #print(\"\\n El total de gastos en un dia es de :\", gastosMantenimiento, \" pesos mexicanos\")\n",
        "  return gastosMantenimiento\n",
        "\n",
        "def depreciacion():\n",
        "  costo=300000\n",
        "  depreciacion=0.15 #al año\n",
        "  añoCompra=7\n",
        "  costohoy=costo*((1-depreciacion)**7) #Cuanto vale este año\n",
        "\n",
        "  #Aexp(ax)\n",
        "  #A=costo\n",
        "  #alpha=ln(costohoy/A)/7\n",
        "  #costo*exp(alpha*x) x=8  para el siguiente año\n",
        "\n",
        "  A=costo\n",
        "  alpha=(np.log(costohoy/A))/7\n",
        "\n",
        "  #A*exp(alpha*x) x=8  para el siguiente año\n",
        "  prediccion=A*np.exp(alpha*8)\n",
        "  prediccion=prediccion/243\n",
        "\n",
        "  return prediccion\n",
        "  #print(\"\\n La depreciacion de la combi al dia es de :\", prediccion, \" pesos\")\n",
        "\n"
      ],
      "metadata": {
        "id": "Ofzi2ibLBGIu"
      },
      "execution_count": 362,
      "outputs": []
    },
    {
      "cell_type": "markdown",
      "source": [
        "##Ganancias cada circuito y cada dia"
      ],
      "metadata": {
        "id": "p6FZcMncSATT"
      }
    },
    {
      "cell_type": "code",
      "source": [
        "def circuito(): ##Ganancias en un circuito\n",
        "  ganancias45min=[]\n",
        "\n",
        "  for i in range(4):#ya que se cambia cada 45 minutos para 3 horas son 4 veces\n",
        "    ganancias45min.append(totalPasajerosS()[-1])\n",
        "\n",
        "  gananciasTotales=sum(ganancias45min)\n",
        "  gastosMantenimiento=mantenimiento()\n",
        "  gasolina=combustible()\n",
        "  gananciasCircuito=gananciasTotales-gasolina\n",
        "\n",
        "  return gananciasCircuito\n",
        "\n",
        "print(\"\\nLas ganancias por cada circuito es de : \",circuito(), \" pesos mexicanos\")\n",
        "\n",
        "def gananciasDia(): ##Ganancias en un dia\n",
        "  circuitoCompleto=[]\n",
        "  for i in range(4):\n",
        "    circuitoCompleto.append(circuito())\n",
        "  gananciasDia=sum(circuitoCompleto)\n",
        "  gananciasTotales=gananciasDia-mantenimiento()-depreciacion()\n",
        "  return gananciasTotales\n",
        "\n",
        "print(\"\\nLas ganancias cada dia es de : \",gananciasDia(), \" pesos mexicanos\")\n"
      ],
      "metadata": {
        "colab": {
          "base_uri": "https://localhost:8080/"
        },
        "id": "6iw7xH6tCO1x",
        "outputId": "0dbfb4ef-cedf-44c7-a3cc-8ef44fe1b1e0"
      },
      "execution_count": 373,
      "outputs": [
        {
          "output_type": "stream",
          "name": "stdout",
          "text": [
            "\n",
            "Las ganancias por cada circuito es de :  4.997780775335059  pesos mexicanos\n",
            "\n",
            "Las ganancias cada dia es de :  50.346851644076196  pesos mexicanos\n"
          ]
        }
      ]
    },
    {
      "cell_type": "markdown",
      "source": [
        "#Simulacion"
      ],
      "metadata": {
        "id": "mh4kanJSQuti"
      }
    },
    {
      "cell_type": "code",
      "source": [
        "n=np.random.randint(100,10000) #numero total de simulaciones\n",
        "\n",
        "def Simulacion(n):\n",
        "  gananciasSimuladas=[]\n",
        "  for i in range(n):\n",
        "    gananciasSimuladas.append(gananciasDia())\n",
        "\n",
        "  gananciasSim=sum(gananciasSimuladas)/n\n",
        "  return gananciasSim\n",
        "\n",
        "print(\"\\nLas ganancias que tiene en un dia nuestro transporte publico con \", n , \" simulaciones es de :\", Simulacion(n), \" pesos mexicanos\" )\n",
        "print(\"\\nLas ganancias que tiene en un mes nuestro transporte publico trabajando 5 dias a la semana con \", n , \" simulaciones es de :\", Simulacion(n)*25, \" pesos mexicanos\" )"
      ],
      "metadata": {
        "colab": {
          "base_uri": "https://localhost:8080/"
        },
        "id": "GKxSTbV2RIMl",
        "outputId": "b241c77c-f16d-4dd7-efff-975f73602310"
      },
      "execution_count": 374,
      "outputs": [
        {
          "output_type": "stream",
          "name": "stdout",
          "text": [
            "\n",
            "Las ganancias que tiene en un dia nuestro transporte publico con  3246  simulaciones es de : 253.93776338740844  pesos mexicanos\n",
            "\n",
            "Las ganancias que tiene en un mes nuestro transporte publico trabajando 5 dias a la semana con  3246  simulaciones es de : 6550.4557842522445  pesos mexicanos\n"
          ]
        }
      ]
    },
    {
      "cell_type": "markdown",
      "source": [
        "##Razon por la cual es 45 min y no 30 minutos\n",
        "\n",
        "La razon es por que gana demasiado, es irreal que en 12 horas gane tanto"
      ],
      "metadata": {
        "id": "oSkpvgTxYOL8"
      }
    },
    {
      "cell_type": "code",
      "source": [
        "def circuito(): ##Ganancias en un circuito\n",
        "  ganancias45min=[]\n",
        "\n",
        "  for i in range(6):#ya que se cambia cada 45 minutos para 3 horas son 4 veces\n",
        "    ganancias45min.append(totalPasajerosS()[-1])\n",
        "\n",
        "  gananciasTotales=sum(ganancias45min)\n",
        "  gastosMantenimiento=mantenimiento()\n",
        "  gasolina=combustible()\n",
        "  gananciasCircuito=gananciasTotales-gasolina\n",
        "\n",
        "  return gananciasCircuito\n",
        "\n",
        "\n",
        "\n",
        "def Simulacion(n):\n",
        "  gananciasSimuladas=[]\n",
        "  for i in range(n):\n",
        "    gananciasSimuladas.append(gananciasDia())\n",
        "\n",
        "  gananciasSim=sum(gananciasSimuladas)/n\n",
        "  return gananciasSim\n",
        "\n",
        "print(\"\\nLas ganancias que tiene en un dia nuestro transporte publico con \", n , \" simulaciones es de :\", Simulacion(n), \" pesos mexicanos\" )\n",
        "print(\"\\nLas ganancias que tiene en un mes nuestro transporte publico trabajando 5 dias a la semana con \", n , \" simulaciones es de :\", Simulacion(n)*25, \" pesos mexicanos\" )\n"
      ],
      "metadata": {
        "colab": {
          "base_uri": "https://localhost:8080/"
        },
        "id": "inIlbUmVaHxq",
        "outputId": "5eaf0d00-61d4-4c84-b316-593d59f6c95c"
      },
      "execution_count": 376,
      "outputs": [
        {
          "output_type": "stream",
          "name": "stdout",
          "text": [
            "\n",
            "Las ganancias que tiene en un dia nuestro transporte publico con  3246  simulaciones es de : 2651.868069340907  pesos mexicanos\n",
            "\n",
            "Las ganancias que tiene en un mes nuestro transporte publico trabajando 5 dias a la semana con  3246  simulaciones es de : 66567.11500699043  pesos mexicanos\n"
          ]
        }
      ]
    }
  ]
}