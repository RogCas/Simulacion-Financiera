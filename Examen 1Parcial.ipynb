{
  "nbformat": 4,
  "nbformat_minor": 0,
  "metadata": {
    "colab": {
      "provenance": [],
      "authorship_tag": "ABX9TyMOmMczfmxdAFhC4WlP4fLl",
      "include_colab_link": true
    },
    "kernelspec": {
      "name": "python3",
      "display_name": "Python 3"
    },
    "language_info": {
      "name": "python"
    }
  },
  "cells": [
    {
      "cell_type": "markdown",
      "metadata": {
        "id": "view-in-github",
        "colab_type": "text"
      },
      "source": [
        "<a href=\"https://colab.research.google.com/github/RogCas/Simulacion-Financiera/blob/main/Examen%201Parcial.ipynb\" target=\"_parent\"><img src=\"https://colab.research.google.com/assets/colab-badge.svg\" alt=\"Open In Colab\"/></a>"
      ]
    },
    {
      "cell_type": "code",
      "execution_count": 128,
      "metadata": {
        "colab": {
          "base_uri": "https://localhost:8080/"
        },
        "id": "prwFGhY5D_nV",
        "outputId": "6f252709-60b7-4de3-a0ce-69eea627beb9"
      },
      "outputs": [
        {
          "output_type": "stream",
          "name": "stdout",
          "text": [
            "\n",
            "Las gananancias que hay en cada circuito son :\n",
            "[808.2244428896278, 825.0986601586324, 820.7157553259837, 799.7768156341383]\n"
          ]
        }
      ],
      "source": [
        "import numpy as np\n",
        "## Total De Pasajeros\n",
        "media = 40  # Media cada 30 minutos\n",
        "n=100\n",
        "\n",
        "def totalPasajerosS():\n",
        "  totalPasajeros=[]\n",
        "  for i in range(n):\n",
        "    numero_pasajeros = np.random.poisson(media)\n",
        "    totalPasajeros.append(numero_pasajeros)\n",
        "  totalPasajerosSim=sum(totalPasajeros)/n\n",
        "\n",
        "  totalPasajerosSim=round(totalPasajerosSim)\n",
        "  #print(\"\\n El total de pasajeros es de : \", totalPasajerosSim)\n",
        "\n",
        "\n",
        "##Cada pasajero que sube al trasporte paga 7 u 8 pesos dependiendo de la distancia (menos de 5 km son 7 pesos y más de 5 km son 8 pesos.\n",
        "\n",
        "##Pasajeros que se trasladan más de 5 km (8 pesos) ##Cada 30 minutos\n",
        "\n",
        "  pasajeros8=[]\n",
        "  for i in range(n):\n",
        "    pasajeros8.append(np.random.uniform(15,23))\n",
        "\n",
        "  pasajeros8Sim=sum(pasajeros8)/n\n",
        "  pasajeros8Sim=round(pasajeros8Sim)\n",
        "  #print(\"\\n El total de pasajeros que pagan 8 pesos es de : \", pasajeros8Sim)\n",
        "##Pasajeros que se trasladan menos de 5 km (7 pesos) ##Cada 30 minutos\n",
        "  pasajeros7Sim=totalPasajerosSim-pasajeros8Sim\n",
        "  #print(\"\\n El total de pasajeros que pagan 7 pesos es de : \", pasajeros7Sim)\n",
        "\n",
        "  return totalPasajerosSim,pasajeros7Sim,pasajeros8Sim\n",
        "\n",
        "\n",
        "\n",
        "\n",
        "\n",
        "#4 recorridos completos\n",
        "#Cada recorrido es en de 3 horas\n",
        "#Entonces haremos la simulacion de personas 6 veces (1 circuito)\n",
        "\n",
        "\n",
        "\n",
        "def circuito():\n",
        "  #Gasto de combustible\n",
        "  mediaCombustible=40\n",
        "  varianzaCombustible=25\n",
        "  desviacionCombustible=np.sqrt(varianzaCombustible)\n",
        "\n",
        "  precioDiesel=24.475\n",
        "\n",
        "  combustible=[]\n",
        "  for i in range(n):\n",
        "    combustible.append(np.random.normal(mediaCombustible,desviacionCombustible))\n",
        "\n",
        "  combustibleSim=sum(combustible)/n\n",
        "  #print(\"\\n El total de combustible en un circuito completo es de : \", combustibleSim , \" litros\")\n",
        "  combustibleSim=combustibleSim*precioDiesel\n",
        "\n",
        "  #print(\"\\n El gasto de gasolina es de combustible en un circuito completo es de : \", combustibleSim,\" pesos mexicanos\")\n",
        "  dia = []\n",
        "  ganancias=[]\n",
        "  for i in range(6):\n",
        "\n",
        "    dia.append(totalPasajerosS())\n",
        "    ganancia1=dia[i][1]*8\n",
        "    ganancia2=dia[i][2]*7\n",
        "    ganancias.append(ganancia1+ganancia2)\n",
        "\n",
        "\n",
        "  gananciasSim=sum(ganancias)\n",
        "\n",
        "\n",
        "  totalGanancias=gananciasSim-combustibleSim\n",
        "\n",
        "  return totalGanancias\n",
        "\n",
        "simulacion=[]\n",
        "for i in range(4):\n",
        "  simulacion.append(circuito())\n",
        "print(\"\\nLas gananancias que hay en cada circuito son :\")\n",
        "print(simulacion)\n",
        "\n",
        "\n"
      ]
    },
    {
      "cell_type": "code",
      "source": [
        "##impuesto\n",
        "\n",
        "##Poliza de seguro\n",
        "\n",
        "#neumaticos\n",
        "\n",
        "##Llantas\n",
        "llantasPrecio=6300\n",
        "llantasPrecioDia=6300/30\n",
        "\n"
      ],
      "metadata": {
        "colab": {
          "base_uri": "https://localhost:8080/"
        },
        "id": "TRhqJ5o6NIwz",
        "outputId": "24273df7-f0fe-4567-d0d8-64cafe22c7e8"
      },
      "execution_count": 131,
      "outputs": [
        {
          "output_type": "stream",
          "name": "stdout",
          "text": [
            "506.62444288962774\n"
          ]
        }
      ]
    }
  ]
}