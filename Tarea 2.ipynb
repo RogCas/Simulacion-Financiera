{
  "nbformat": 4,
  "nbformat_minor": 0,
  "metadata": {
    "colab": {
      "provenance": [],
      "authorship_tag": "ABX9TyN5HyXrUZu0dJg3XIeI+Ig8",
      "include_colab_link": true
    },
    "kernelspec": {
      "name": "python3",
      "display_name": "Python 3"
    },
    "language_info": {
      "name": "python"
    }
  },
  "cells": [
    {
      "cell_type": "markdown",
      "metadata": {
        "id": "view-in-github",
        "colab_type": "text"
      },
      "source": [
        "<a href=\"https://colab.research.google.com/github/RogCas/Simulacion-Financiera/blob/main/Tarea%202.ipynb\" target=\"_parent\"><img src=\"https://colab.research.google.com/assets/colab-badge.svg\" alt=\"Open In Colab\"/></a>"
      ]
    },
    {
      "cell_type": "code",
      "execution_count": 46,
      "metadata": {
        "colab": {
          "base_uri": "https://localhost:8080/"
        },
        "id": "2lbMMqwGoJAS",
        "outputId": "e7d4041d-3176-4fef-dbc3-38ff573557c7"
      },
      "outputs": [
        {
          "output_type": "stream",
          "name": "stdout",
          "text": [
            "\n",
            "Ventas simuladas(previstas) con  500 simulaciones :  146,760,160.83798853\n",
            "\n",
            "Gastos simulados(previstos) con 500 simulaciones:  37,036,000.0\n",
            "\n",
            "Las ganacias simuladas (previstas) con 500 simulaciones:  109,724,160.83798853\n",
            "\n",
            "\n",
            "   Aleatorio  Gasto  Aleatorio2   Produccion  Aleatorio3      Precio\n",
            "0   0.070267     48    0.236572   885.220136    0.861007  186.100696\n",
            "1   0.184986     39    0.474087   989.600141    0.661143  166.114278\n",
            "2   0.493130     35    0.712368  1089.650556    0.186914  118.691431\n",
            "3   0.366678     43    0.760017  1113.017159    0.932444  193.244443\n",
            "4   0.977808     23    0.448984   979.483284    0.023374  102.337448\n"
          ]
        }
      ],
      "source": [
        "import random\n",
        "import matplotlib.pyplot as plt\n",
        "from scipy.stats import norm\n",
        "import pandas as pd\n",
        "n=500  #numero de simulaciones\n",
        "\n",
        "\n",
        "padv=.52 #probabilidad adversa\n",
        "pfav=.48 #probabilidad favorable\n",
        "pCS=.26 #probabilidad Crisis Severa\n",
        "pCL=.29 #probabilidad Crisis Leve\n",
        "pMO=.27 #probabilidad Moderado\n",
        "pCR=.18 #probabilidad Crecimiento\n",
        "\n",
        "media = 1000\n",
        "desviacion_estandar = 160\n",
        "\n",
        "probabilidad=[padv*pCS,pfav*pCS,padv*pCL,pfav*pCL,padv*pMO,pfav*pMO,padv*pCR,pfav*pCR]\n",
        "\n",
        "pacumulada=[sum(probabilidad[:i+1]) for i in range(len(probabilidad))]\n",
        "\n",
        "gastos = [48, 39, 43, 35, 40, 30, 35, 23]\n",
        "\n",
        "simGastos=[]\n",
        "listaU1=[]\n",
        "for i in range(0,n):\n",
        "  u1=random.random()\n",
        "  listaU1.append(u1)\n",
        "  for i in range(0, len(pacumulada)+1):\n",
        "      if u1<=pacumulada[i]:\n",
        "        simGastos.append(gastos[i])\n",
        "        break\n",
        "\n",
        "mediaGastos=(sum(simGastos)/len(simGastos))\n",
        "gastosReales=mediaGastos*1000000\n",
        "\n",
        "\n",
        "simProduccion=[]\n",
        "listaU2=[]\n",
        "for i in range(0,n):\n",
        "  u2 = random.random()\n",
        "  listaU2.append(u2)\n",
        "  produccion = norm.ppf(u2, loc=media, scale=desviacion_estandar)\n",
        "  simProduccion.append(produccion)\n",
        "\n",
        "mediaProduccion=sum(simProduccion)/len(simProduccion)\n",
        "\n",
        "simPrecios=[]\n",
        "listaU3=[]\n",
        "for i in range(0,n):\n",
        "  u3=random.random()\n",
        "  listaU3.append(u3)\n",
        "  precio=100*u3+100\n",
        "  simPrecios.append(precio)\n",
        "\n",
        "mediaPrecios=sum(simPrecios)/len(simPrecios)\n",
        "\n",
        "#Hacemos las operaciones\n",
        "ventas=mediaProduccion*mediaPrecios*1000\n",
        "ganancias=ventas-gastosReales\n",
        "\n",
        "#Hacemos que tengan coma para que sea mas facil la visualizacion\n",
        "ventascoma = \"{:,}\".format(ventas)\n",
        "gananciascoma = \"{:,}\".format(ganancias)\n",
        "gastoscoma = \"{:,}\".format(gastosReales)\n",
        "\n",
        "#Imprimimos los datos\"\n",
        "print(\"\\nVentas simuladas(previstas) con \",n,\"simulaciones : \", ventascoma)\n",
        "print(\"\\nGastos simulados(previstos) con\",n,\"simulaciones: \", gastoscoma)\n",
        "print(\"\\nLas ganacias simuladas (previstas) con\",n,\"simulaciones: \", gananciascoma)\n",
        "print(\"\\n\")\n",
        "\n",
        "\n",
        "\n",
        "# Crear la tabla con los primeros 5 datos\n",
        "datos = {\n",
        "    'Aleatorio': [listaU1[0],listaU1[1],listaU1[2],listaU1[3],listaU1[4]],\n",
        "    'Gasto': [simGastos[0],simGastos[1],simGastos[2],simGastos[3],simGastos[4]],\n",
        "    'Aleatorio2': [listaU2[0],listaU2[1],listaU2[2],listaU2[3],listaU2[4]],\n",
        "    'Produccion': [simProduccion[0],simProduccion[1],simProduccion[2],simProduccion[3],simProduccion[4]],\n",
        "    'Aleatorio3': [listaU3[0],listaU3[1],listaU3[2],listaU3[3],listaU3[4]],\n",
        "    'Precio': [simPrecios[0],simPrecios[1],simPrecios[2],simPrecios[3],simPrecios[4]]\n",
        "}\n",
        "\n",
        "# Crear un DataFrame\n",
        "df = pd.DataFrame(datos)\n",
        "\n",
        "# Mostrar el DataFrame\n",
        "print(df)\n"
      ]
    }
  ]
}